{
 "cells": [
  {
   "cell_type": "markdown",
   "id": "a9cab00e-3c69-44d9-a895-c1cb738731ce",
   "metadata": {},
   "source": [
    "# Sentiment Analysis with NLP"
   ]
  },
  {
   "cell_type": "markdown",
   "id": "074ace9e-bfa7-4ff0-816c-95e77485190f",
   "metadata": {},
   "source": [
    "### Problem statement\n",
    "\n",
    "As a small nation dependent on foreign investments, spending, and good relationships with other countries, Singapore has a vested interest in its public perception and international reputation. Public perception has an impact on economy and foreign relations. For example, travel vlogs depicting Singapore in a good light are amplified in the online space, attracting more visitors and tourist spending. Singapore's good reputation in terms of safety and political stability are also integral to attracting businesses to set up here. It is therefore important to monitor what the online sphere is saying about Singapore and take relevant sentiments/perceptions as feedback for improvement.\n",
    "\n",
    "The goal for this project is to build a classification model that can identify negative sentiment against Singapore. We do this by training our model on Youtube comments from videos about Singapore. We will use different classification models, such as Naive Bayes and Random Forest. We will use the F1-score as as a metric as it takes into account both precision (reduce false positive) and specificity (reduce false negatives)."
   ]
  },
  {
   "cell_type": "markdown",
   "id": "c73ce12c-cb5a-4729-8c2e-d1e9058a1939",
   "metadata": {},
   "source": [
    "### Video selection process\n",
    "\n",
    "1. Filtered by most recent\n",
    "   - Focused on videos about Singapore as a whole and/or its policies, rather than travel vlogs, businesses (ie. Singapore Airlines)\n",
    "   - Disregarded non-English videos\n",
    "   - Disregarded those with less than 100 comments or have comments disabled\n",
    "2. Filtered by most views\n",
    "   - Focused on videos about Singapore as a whole and/or its policies, rather than travel vlogs, businesses (ie. Singapore Airlines)\n",
    "   - Disregarded non-English videos\n",
    "   - Disregarded those with less than 100 comments or have comments disabled\n",
    "3. Tried to get a mix of \"positive\" and \"negative\" sounding titles\n"
   ]
  },
  {
   "cell_type": "markdown",
   "id": "6ecc1534-e3cc-4759-bace-4daf05b9225d",
   "metadata": {},
   "source": [
    "#### Youtube videos used\n",
    "\n",
    "|Video Title|Publish Date|Link|\n",
    "|-|-|-|\n",
    "|Singapore to hang first woman in nearly 20 years during executions set for this week: rights groups|26 Jul 2023|[Link](https://youtu.be/xJlgtV8L7Jc)|\n",
    "|Inside Singapore’s deadly war on drugs: 101 East Documentary|19 Jan 2023|[Link](https://youtu.be/GL1JdIeoo4A)|\n",
    "|The Dark Side of Singapore's Economic Miracle|9 Oct 2022|[Link](https://youtu.be/XDYy8z7krAI)|\n",
    "|Why Singapore is One of the World's Richest Countries|9 Sep 2022|[Link](https://youtu.be/XSOgcpRbrCo)|\n",
    "|Why Singapore Is Insanely Well Designed|14 Sep 2022|[Link](https://youtu.be/vyfJgJBB3Vk)|\n",
    "|Singapore: The World's Only Successful Dictatorship?|3 Jul 2021|[Link](https://youtu.be/Hkxf4SC_SBk)|\n",
    "|The Almost Perfect Country|26 Aug 2020|[Link](https://www.youtube.com/watch?v=8XNu282FkvM)|\n",
    "|City of the Future: Singapore – Full Episode: National Geographic|24 Nov 2018|[Link](https://youtu.be/xi6r3hZe5Tg)|ates.\n"
   ]
  },
  {
   "cell_type": "markdown",
   "id": "9f5dbcf8-7e3b-4cae-b11f-5622ca3e8fb0",
   "metadata": {},
   "source": [
    "### Extracting comments using Google's Youtube API"
   ]
  },
  {
   "cell_type": "code",
   "execution_count": 1,
   "id": "3b4b6ed3-1099-4304-b48b-3b4c4787884f",
   "metadata": {},
   "outputs": [],
   "source": [
    "# import necessary libraries\n",
    "\n",
    "from googleapiclient.discovery import build\n",
    "from google.oauth2.credentials import Credentials\n",
    "from google_auth_oauthlib.flow import InstalledAppFlow\n",
    "import pandas as pd"
   ]
  },
  {
   "cell_type": "code",
   "execution_count": 2,
   "id": "369ff33d-8073-4eb6-9c7b-6ea2ad7dc960",
   "metadata": {},
   "outputs": [],
   "source": [
    "# api credentials\n",
    "\n",
    "apikey = #####"
   ]
  },
  {
   "cell_type": "code",
   "execution_count": 3,
   "id": "54974d6b-ce88-456d-98c1-536e7e960845",
   "metadata": {},
   "outputs": [],
   "source": [
    "# get comments from a video\n",
    "\n",
    "def get_all_video_comments(video_id):\n",
    "    youtube = build('youtube', 'v3', developerKey=apikey)\n",
    "\n",
    "    videos, comments, dates = [], [], []\n",
    "    nextPageToken = None\n",
    "\n",
    "    while True:\n",
    "        response = youtube.commentThreads().list(\n",
    "            part='snippet',\n",
    "            videoId=video_id,\n",
    "            textFormat='plainText',\n",
    "            maxResults=100,\n",
    "            pageToken=nextPageToken\n",
    "        ).execute()\n",
    "\n",
    "        for item in response['items']:\n",
    "            video = item['snippet']['videoId']\n",
    "            comment = item['snippet']['topLevelComment']['snippet']['textDisplay']\n",
    "            date = item['snippet']['topLevelComment']['snippet']['publishedAt']\n",
    "            \n",
    "            videos.append(video)\n",
    "            comments.append(comment)\n",
    "            dates.append(date)\n",
    "\n",
    "        nextPageToken = response.get('nextPageToken')\n",
    "\n",
    "        if not nextPageToken:\n",
    "            break\n",
    "\n",
    "    df = pd.DataFrame({'video_id':videos, 'comment':comments, 'comment_date': dates})\n",
    "    \n",
    "    return df"
   ]
  },
  {
   "cell_type": "code",
   "execution_count": 4,
   "id": "4c7addb3-86f0-49de-9459-b554e45286eb",
   "metadata": {},
   "outputs": [],
   "source": [
    "# save comments to CSV\n",
    "\n",
    "def save_to_csv(df, csv_filename):\n",
    "    df.to_csv(csv_filename, index=False)"
   ]
  },
  {
   "cell_type": "code",
   "execution_count": 5,
   "id": "56fc772b-ee02-446b-811a-afa2862d4d46",
   "metadata": {
    "scrolled": true
   },
   "outputs": [],
   "source": [
    "# combining all above functions\n",
    "# batched processed to check on google api quota\n",
    "\n",
    "# def main():\n",
    "#     video_id = videoIDs\n",
    "#     df = get_all_video_comments(video_id)\n",
    "#     csv_filename = \"./data/comments.csv\"\n",
    "#     save_to_csv(df, csv_filename)\n",
    "#     print(\"Comments extracted and saved to CSV.\")\n",
    "\n",
    "\n",
    "# if __name__ == \"__main__\":\n",
    "#     main()"
   ]
  }
 ],
 "metadata": {
  "kernelspec": {
   "display_name": "Python 3 (ipykernel)",
   "language": "python",
   "name": "python3"
  },
  "language_info": {
   "codemirror_mode": {
    "name": "ipython",
    "version": 3
   },
   "file_extension": ".py",
   "mimetype": "text/x-python",
   "name": "python",
   "nbconvert_exporter": "python",
   "pygments_lexer": "ipython3",
   "version": "3.8.16"
  }
 },
 "nbformat": 4,
 "nbformat_minor": 5
}
