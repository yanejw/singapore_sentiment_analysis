{
 "cells": [
  {
   "cell_type": "markdown",
   "id": "55ed7e38-1b90-41fe-90ef-718c4e1bf5ce",
   "metadata": {},
   "source": [
    "# Data pre-processing"
   ]
  },
  {
   "cell_type": "markdown",
   "id": "539fa3ca-1105-4a3d-8510-cb0c47d5576d",
   "metadata": {},
   "source": [
    "### Combining dataframes"
   ]
  },
  {
   "cell_type": "code",
   "execution_count": 1,
   "id": "d305b1bc-640d-4f16-a916-d3069ab20d17",
   "metadata": {},
   "outputs": [],
   "source": [
    "# import necessary libraries\n",
    "\n",
    "import pandas as pd\n",
    "import matplotlib.pyplot as plt\n",
    "import seaborn as sns\n",
    "import numpy as np\n",
    "\n",
    "from wordcloud import WordCloud\n",
    "\n",
    "import nltk\n",
    "from nltk.corpus import stopwords\n",
    "from nltk.stem import WordNetLemmatizer\n",
    "from nltk.tokenize import sent_tokenize, word_tokenize, RegexpTokenizer"
   ]
  },
  {
   "cell_type": "code",
   "execution_count": 2,
   "id": "5bf383a9-99ce-48c5-b189-e48c9e21a33f",
   "metadata": {},
   "outputs": [],
   "source": [
    "# importing all comment csv files\n",
    "\n",
    "df1 = pd.read_csv(\"./data/01_scmp_comments.csv\")\n",
    "df2 = pd.read_csv(\"./data/02_aj_comments.csv\")\n",
    "df3 = pd.read_csv(\"./data/03_ewd_comments.csv\")\n",
    "df4 = pd.read_csv(\"./data/04_cs_comments.csv\")\n",
    "df5 = pd.read_csv(\"./data/05_ofs_comments.csv\")\n",
    "df6 = pd.read_csv(\"./data/06_pm_comments.csv\")\n",
    "df7 = pd.read_csv(\"./data/07_nd_comments.csv\")\n",
    "df8 = pd.read_csv(\"./data/08_ng_comments.csv\")"
   ]
  },
  {
   "cell_type": "code",
   "execution_count": 3,
   "id": "1402dc67-72ed-4844-8152-1c3503752d2c",
   "metadata": {},
   "outputs": [],
   "source": [
    "# combine all dataframes into 1\n",
    "\n",
    "all_comments = pd.concat([df1, df2, df3, df4, df5, df6, df7, df8], axis=0)"
   ]
  },
  {
   "cell_type": "code",
   "execution_count": 4,
   "id": "f44726ca-5c85-4b2c-ac8f-5fbd00f0db0c",
   "metadata": {},
   "outputs": [],
   "source": [
    "# reset index\n",
    "\n",
    "all_comments.reset_index(inplace=True)\n",
    "all_comments.drop(columns = 'index', inplace=True)"
   ]
  },
  {
   "cell_type": "code",
   "execution_count": 5,
   "id": "6e402eec-df63-40aa-bf56-a2fc353affc0",
   "metadata": {},
   "outputs": [
    {
     "data": {
      "text/plain": [
       "(25444, 3)"
      ]
     },
     "execution_count": 5,
     "metadata": {},
     "output_type": "execute_result"
    }
   ],
   "source": [
    "all_comments.shape"
   ]
  },
  {
   "cell_type": "markdown",
   "id": "277b7a12-dfda-408f-b5e5-84fa7a702d51",
   "metadata": {},
   "source": [
    "After combining all comments into a single dataframe, there are 25,444 rows - which should give us enough data to train and test our classification model."
   ]
  },
  {
   "cell_type": "code",
   "execution_count": 6,
   "id": "36af16d6-43c6-4346-96c0-18d693d5a4c2",
   "metadata": {},
   "outputs": [],
   "source": [
    "# save as csv\n",
    "\n",
    "all_comments.to_csv('./data/all_comments.csv', index=False)"
   ]
  },
  {
   "cell_type": "markdown",
   "id": "a88cf1eb-3519-46f8-8fa2-4595365f4c3b",
   "metadata": {},
   "source": [
    "### Data cleaning (part 1)\n",
    "- Check if values are in the correct column\n",
    "- Check dtypes\n",
    "- Check for duplicates and null values\n",
    "- Identify language, drop non-English comments"
   ]
  },
  {
   "cell_type": "markdown",
   "id": "e7d7b73a-7742-43ff-bfc7-ab493866821f",
   "metadata": {},
   "source": [
    "#### Check if values are in the correct column"
   ]
  },
  {
   "cell_type": "code",
   "execution_count": 7,
   "id": "77b5db02-7919-491e-b6aa-e6c5a0c8ef27",
   "metadata": {},
   "outputs": [
    {
     "data": {
      "text/plain": [
       "8XNu282FkvM                     8637\n",
       "Hkxf4SC_SBk                     4408\n",
       "xi6r3hZe5Tg                     4350\n",
       "GL1JdIeoo4A                     3808\n",
       "XSOgcpRbrCo                     2294\n",
       "XDYy8z7krAI                      951\n",
       "vyfJgJBB3Vk                      748\n",
       "xJlgtV8L7Jc                      247\n",
       "documentary on my country :)       1\n",
       "Name: video_id, dtype: int64"
      ]
     },
     "execution_count": 7,
     "metadata": {},
     "output_type": "execute_result"
    }
   ],
   "source": [
    "# check values are in the right column\n",
    "\n",
    "all_comments['video_id'].value_counts()"
   ]
  },
  {
   "cell_type": "code",
   "execution_count": 8,
   "id": "4b06d47d-c4bc-4f19-ab9b-3b8ef080ca93",
   "metadata": {},
   "outputs": [
    {
     "data": {
      "text/plain": [
       "Int64Index([23114], dtype='int64')"
      ]
     },
     "execution_count": 8,
     "metadata": {},
     "output_type": "execute_result"
    }
   ],
   "source": [
    "all_comments[all_comments['video_id'] == 'documentary on my country :)'].index"
   ]
  },
  {
   "cell_type": "markdown",
   "id": "a8239dd3-edc4-418e-8fea-8b26cd43a9db",
   "metadata": {},
   "source": [
    "After examining the csv file, it seems that the original comment was split and placed into the wrong columns. Since it is only one line, we can correct this manually in order to preserve the number of rows."
   ]
  },
  {
   "cell_type": "code",
   "execution_count": 9,
   "id": "c49d1fd0-06a1-4f17-82fc-e829e7350db9",
   "metadata": {},
   "outputs": [],
   "source": [
    "# correcting extraction mistake\n",
    "\n",
    "all_comments['comment'].iloc[23113] = all_comments['comment'].iloc[23113] + all_comments['video_id'].iloc[23114]"
   ]
  },
  {
   "cell_type": "code",
   "execution_count": 10,
   "id": "81daea05-4b6b-4346-8d17-395e6de461d9",
   "metadata": {},
   "outputs": [],
   "source": [
    "all_comments['comment_date'].iloc[23113] = all_comments['comment'].iloc[23114]"
   ]
  },
  {
   "cell_type": "code",
   "execution_count": 11,
   "id": "ebfcec73-218b-4996-867f-1a8612fed733",
   "metadata": {},
   "outputs": [],
   "source": [
    "all_comments.drop(index=23114, inplace=True)"
   ]
  },
  {
   "cell_type": "code",
   "execution_count": 12,
   "id": "dbc5bd70-6a57-4ef6-8aa4-3a82f4c8d47a",
   "metadata": {},
   "outputs": [
    {
     "data": {
      "text/plain": [
       "8XNu282FkvM    8637\n",
       "Hkxf4SC_SBk    4408\n",
       "xi6r3hZe5Tg    4350\n",
       "GL1JdIeoo4A    3808\n",
       "XSOgcpRbrCo    2294\n",
       "XDYy8z7krAI     951\n",
       "vyfJgJBB3Vk     748\n",
       "xJlgtV8L7Jc     247\n",
       "Name: video_id, dtype: int64"
      ]
     },
     "execution_count": 12,
     "metadata": {},
     "output_type": "execute_result"
    }
   ],
   "source": [
    "all_comments['video_id'].value_counts()"
   ]
  },
  {
   "cell_type": "markdown",
   "id": "c38afb05-0f56-4942-80ae-0bcc787f3adb",
   "metadata": {},
   "source": [
    "#### Check dtypes"
   ]
  },
  {
   "cell_type": "code",
   "execution_count": 13,
   "id": "b6ab8262-a7a7-44dc-b5b9-132148f1349a",
   "metadata": {},
   "outputs": [
    {
     "name": "stdout",
     "output_type": "stream",
     "text": [
      "<class 'pandas.core.frame.DataFrame'>\n",
      "Int64Index: 25443 entries, 0 to 25443\n",
      "Data columns (total 3 columns):\n",
      " #   Column        Non-Null Count  Dtype \n",
      "---  ------        --------------  ----- \n",
      " 0   video_id      25443 non-null  object\n",
      " 1   comment       25441 non-null  object\n",
      " 2   comment_date  25443 non-null  object\n",
      "dtypes: object(3)\n",
      "memory usage: 795.1+ KB\n"
     ]
    }
   ],
   "source": [
    "all_comments.info()"
   ]
  },
  {
   "cell_type": "code",
   "execution_count": 14,
   "id": "6abebcea-bb6e-47f9-93eb-0d72ad05f434",
   "metadata": {},
   "outputs": [],
   "source": [
    "all_comments['comment_date'] = pd.to_datetime(all_comments['comment_date'])"
   ]
  },
  {
   "cell_type": "code",
   "execution_count": 15,
   "id": "a8d41a49-33f2-425a-a82b-05c2cdeabd9d",
   "metadata": {},
   "outputs": [
    {
     "data": {
      "text/plain": [
       "0   2023-07-26 04:11:40+00:00\n",
       "1   2023-08-03 03:52:04+00:00\n",
       "2   2023-08-02 15:10:36+00:00\n",
       "3   2023-08-01 17:07:10+00:00\n",
       "4   2023-08-01 08:46:42+00:00\n",
       "Name: comment_date, dtype: datetime64[ns, UTC]"
      ]
     },
     "execution_count": 15,
     "metadata": {},
     "output_type": "execute_result"
    }
   ],
   "source": [
    "all_comments['comment_date'].head()"
   ]
  },
  {
   "cell_type": "markdown",
   "id": "a60b08a5-aee0-43b0-b8cc-930fc747b83d",
   "metadata": {},
   "source": [
    "#### Check duplicates and null values"
   ]
  },
  {
   "cell_type": "code",
   "execution_count": 16,
   "id": "3b5a1795-e3d2-4a1b-b2e5-ea3e63d5457e",
   "metadata": {},
   "outputs": [
    {
     "data": {
      "text/plain": [
       "False    25440\n",
       "True         3\n",
       "dtype: int64"
      ]
     },
     "execution_count": 16,
     "metadata": {},
     "output_type": "execute_result"
    }
   ],
   "source": [
    "# check for duplicates\n",
    "\n",
    "all_comments.duplicated().value_counts()"
   ]
  },
  {
   "cell_type": "code",
   "execution_count": 17,
   "id": "745bb0aa-b4f6-4308-9520-2f2419af15c5",
   "metadata": {},
   "outputs": [],
   "source": [
    "# remove duplicates\n",
    "\n",
    "all_comments.drop_duplicates(keep='first', inplace=True)"
   ]
  },
  {
   "cell_type": "code",
   "execution_count": 18,
   "id": "19e55824-8c0d-4c7d-9073-876ed6c718d4",
   "metadata": {},
   "outputs": [
    {
     "data": {
      "text/plain": [
       "video_id  comment  comment_date\n",
       "False     False    False           25438\n",
       "          True     False               2\n",
       "dtype: int64"
      ]
     },
     "execution_count": 18,
     "metadata": {},
     "output_type": "execute_result"
    }
   ],
   "source": [
    "# check for null values\n",
    "\n",
    "all_comments.isnull().value_counts()"
   ]
  },
  {
   "cell_type": "code",
   "execution_count": 19,
   "id": "b40191e6-1ee4-4d86-b0c7-70957c018f1d",
   "metadata": {},
   "outputs": [
    {
     "data": {
      "text/html": [
       "<div>\n",
       "<style scoped>\n",
       "    .dataframe tbody tr th:only-of-type {\n",
       "        vertical-align: middle;\n",
       "    }\n",
       "\n",
       "    .dataframe tbody tr th {\n",
       "        vertical-align: top;\n",
       "    }\n",
       "\n",
       "    .dataframe thead th {\n",
       "        text-align: right;\n",
       "    }\n",
       "</style>\n",
       "<table border=\"1\" class=\"dataframe\">\n",
       "  <thead>\n",
       "    <tr style=\"text-align: right;\">\n",
       "      <th></th>\n",
       "      <th>video_id</th>\n",
       "      <th>comment</th>\n",
       "      <th>comment_date</th>\n",
       "    </tr>\n",
       "  </thead>\n",
       "  <tbody>\n",
       "    <tr>\n",
       "      <th>7350</th>\n",
       "      <td>vyfJgJBB3Vk</td>\n",
       "      <td>NaN</td>\n",
       "      <td>2023-03-23 11:09:43+00:00</td>\n",
       "    </tr>\n",
       "    <tr>\n",
       "      <th>21361</th>\n",
       "      <td>xi6r3hZe5Tg</td>\n",
       "      <td>NaN</td>\n",
       "      <td>2022-01-25 20:03:32+00:00</td>\n",
       "    </tr>\n",
       "  </tbody>\n",
       "</table>\n",
       "</div>"
      ],
      "text/plain": [
       "          video_id comment              comment_date\n",
       "7350   vyfJgJBB3Vk     NaN 2023-03-23 11:09:43+00:00\n",
       "21361  xi6r3hZe5Tg     NaN 2022-01-25 20:03:32+00:00"
      ]
     },
     "execution_count": 19,
     "metadata": {},
     "output_type": "execute_result"
    }
   ],
   "source": [
    "all_comments[(all_comments['comment'].isnull() == True)]"
   ]
  },
  {
   "cell_type": "code",
   "execution_count": 20,
   "id": "50f6533e-88d9-471c-8db3-aa6d4956c619",
   "metadata": {},
   "outputs": [],
   "source": [
    "# drop null rows as it is only two data rows\n",
    "\n",
    "all_comments.dropna(axis=0, inplace=True)"
   ]
  },
  {
   "cell_type": "code",
   "execution_count": 21,
   "id": "0d93151c-3fe2-4658-909e-f06b4e000261",
   "metadata": {},
   "outputs": [
    {
     "data": {
      "text/plain": [
       "(25438, 3)"
      ]
     },
     "execution_count": 21,
     "metadata": {},
     "output_type": "execute_result"
    }
   ],
   "source": [
    "all_comments.shape"
   ]
  },
  {
   "cell_type": "markdown",
   "id": "9ca5d9e6-db65-43a7-9eca-b79c595e9a28",
   "metadata": {},
   "source": [
    "#### Identify language"
   ]
  },
  {
   "cell_type": "code",
   "execution_count": 22,
   "id": "783a2fb3-f3fc-4079-a40b-4357f275e80f",
   "metadata": {},
   "outputs": [],
   "source": [
    "# detect language and drop if not english\n",
    "\n",
    "from langdetect import detect\n",
    "\n",
    "def get_lang(text):\n",
    "    try:\n",
    "        result = detect(text)\n",
    "        return result\n",
    "    except:\n",
    "        return None"
   ]
  },
  {
   "cell_type": "code",
   "execution_count": 23,
   "id": "f25ea0b6-38f9-45b6-91fe-833085175e14",
   "metadata": {},
   "outputs": [],
   "source": [
    "all_comments['language'] = all_comments['comment'].apply(get_lang)"
   ]
  },
  {
   "cell_type": "code",
   "execution_count": 24,
   "id": "2f593784-70df-4f8d-9846-539dccf91bc6",
   "metadata": {
    "scrolled": true
   },
   "outputs": [
    {
     "data": {
      "text/plain": [
       "en       22164\n",
       "tl         559\n",
       "it         273\n",
       "id         251\n",
       "af         222\n",
       "de         166\n",
       "so         129\n",
       "nl         116\n",
       "es         101\n",
       "no          97\n",
       "fr          96\n",
       "ro          89\n",
       "pl          83\n",
       "cy          82\n",
       "et          76\n",
       "sw          73\n",
       "da          59\n",
       "ca          58\n",
       "pt          49\n",
       "hr          45\n",
       "vi          42\n",
       "tr          41\n",
       "sl          40\n",
       "fi          38\n",
       "sq          36\n",
       "ko          34\n",
       "sv          31\n",
       "zh-cn       30\n",
       "ar          24\n",
       "ru          16\n",
       "sk          13\n",
       "hu          13\n",
       "cs          11\n",
       "lt           9\n",
       "bn           8\n",
       "th           8\n",
       "lv           6\n",
       "ja           6\n",
       "zh-tw        5\n",
       "ta           4\n",
       "hi           4\n",
       "fa           4\n",
       "he           1\n",
       "mr           1\n",
       "el           1\n",
       "uk           1\n",
       "kn           1\n",
       "Name: language, dtype: int64"
      ]
     },
     "execution_count": 24,
     "metadata": {},
     "output_type": "execute_result"
    }
   ],
   "source": [
    "all_comments['language'].value_counts()"
   ]
  },
  {
   "cell_type": "code",
   "execution_count": 25,
   "id": "f21447c3-65ac-48cd-946a-fb95343df036",
   "metadata": {},
   "outputs": [],
   "source": [
    "# drop non-english rows, as there will still be enough rows for analysis after dropping\n",
    "# dropped rows are 12.9% of total rows\n",
    "\n",
    "all_comments_en = all_comments.drop(index = all_comments[(all_comments['language'] != 'en')].index)"
   ]
  },
  {
   "cell_type": "code",
   "execution_count": 26,
   "id": "e4d79d15-3e84-4d23-bc65-3c7f0f654b51",
   "metadata": {},
   "outputs": [],
   "source": [
    "# drop language column, as all will be in english\n",
    "\n",
    "all_comments_en.drop(columns = 'language' , inplace=True)"
   ]
  },
  {
   "cell_type": "code",
   "execution_count": 27,
   "id": "995c3bc4-95b6-4f38-a4d1-3ce072544465",
   "metadata": {},
   "outputs": [
    {
     "data": {
      "text/html": [
       "<div>\n",
       "<style scoped>\n",
       "    .dataframe tbody tr th:only-of-type {\n",
       "        vertical-align: middle;\n",
       "    }\n",
       "\n",
       "    .dataframe tbody tr th {\n",
       "        vertical-align: top;\n",
       "    }\n",
       "\n",
       "    .dataframe thead th {\n",
       "        text-align: right;\n",
       "    }\n",
       "</style>\n",
       "<table border=\"1\" class=\"dataframe\">\n",
       "  <thead>\n",
       "    <tr style=\"text-align: right;\">\n",
       "      <th></th>\n",
       "      <th>video_id</th>\n",
       "      <th>comment</th>\n",
       "      <th>comment_date</th>\n",
       "    </tr>\n",
       "  </thead>\n",
       "  <tbody>\n",
       "    <tr>\n",
       "      <th>0</th>\n",
       "      <td>xJlgtV8L7Jc</td>\n",
       "      <td>For more on this: https://sc.mp/gjys</td>\n",
       "      <td>2023-07-26 04:11:40+00:00</td>\n",
       "    </tr>\n",
       "    <tr>\n",
       "      <th>1</th>\n",
       "      <td>xJlgtV8L7Jc</td>\n",
       "      <td>Yes,  punish the criminals , not the innocent ...</td>\n",
       "      <td>2023-08-03 03:52:04+00:00</td>\n",
       "    </tr>\n",
       "    <tr>\n",
       "      <th>2</th>\n",
       "      <td>xJlgtV8L7Jc</td>\n",
       "      <td>Flor Contemplacion had been there. Filipinos k...</td>\n",
       "      <td>2023-08-02 15:10:36+00:00</td>\n",
       "    </tr>\n",
       "    <tr>\n",
       "      <th>4</th>\n",
       "      <td>xJlgtV8L7Jc</td>\n",
       "      <td>Don't mind these westoids. I'm half Indonesian...</td>\n",
       "      <td>2023-08-01 08:46:42+00:00</td>\n",
       "    </tr>\n",
       "    <tr>\n",
       "      <th>5</th>\n",
       "      <td>xJlgtV8L7Jc</td>\n",
       "      <td>No wonder Singapore has the most powerful pass...</td>\n",
       "      <td>2023-08-01 07:57:54+00:00</td>\n",
       "    </tr>\n",
       "    <tr>\n",
       "      <th>...</th>\n",
       "      <td>...</td>\n",
       "      <td>...</td>\n",
       "      <td>...</td>\n",
       "    </tr>\n",
       "    <tr>\n",
       "      <th>25437</th>\n",
       "      <td>xi6r3hZe5Tg</td>\n",
       "      <td>+1 science is difficult</td>\n",
       "      <td>2018-11-24 13:06:36+00:00</td>\n",
       "    </tr>\n",
       "    <tr>\n",
       "      <th>25440</th>\n",
       "      <td>xi6r3hZe5Tg</td>\n",
       "      <td>I live in Australia and have always wanted to ...</td>\n",
       "      <td>2018-11-24 13:03:39+00:00</td>\n",
       "    </tr>\n",
       "    <tr>\n",
       "      <th>25441</th>\n",
       "      <td>xi6r3hZe5Tg</td>\n",
       "      <td>yeah! second here ❤</td>\n",
       "      <td>2018-11-24 13:03:13+00:00</td>\n",
       "    </tr>\n",
       "    <tr>\n",
       "      <th>25442</th>\n",
       "      <td>xi6r3hZe5Tg</td>\n",
       "      <td>Awesome... civilization is getting to it's pea...</td>\n",
       "      <td>2018-11-24 13:02:55+00:00</td>\n",
       "    </tr>\n",
       "    <tr>\n",
       "      <th>25443</th>\n",
       "      <td>xi6r3hZe5Tg</td>\n",
       "      <td>*Singapore's Changi Airport is also stunning*</td>\n",
       "      <td>2018-11-24 13:02:52+00:00</td>\n",
       "    </tr>\n",
       "  </tbody>\n",
       "</table>\n",
       "<p>22164 rows × 3 columns</p>\n",
       "</div>"
      ],
      "text/plain": [
       "          video_id                                            comment  \\\n",
       "0      xJlgtV8L7Jc               For more on this: https://sc.mp/gjys   \n",
       "1      xJlgtV8L7Jc  Yes,  punish the criminals , not the innocent ...   \n",
       "2      xJlgtV8L7Jc  Flor Contemplacion had been there. Filipinos k...   \n",
       "4      xJlgtV8L7Jc  Don't mind these westoids. I'm half Indonesian...   \n",
       "5      xJlgtV8L7Jc  No wonder Singapore has the most powerful pass...   \n",
       "...            ...                                                ...   \n",
       "25437  xi6r3hZe5Tg                            +1 science is difficult   \n",
       "25440  xi6r3hZe5Tg  I live in Australia and have always wanted to ...   \n",
       "25441  xi6r3hZe5Tg                                yeah! second here ❤   \n",
       "25442  xi6r3hZe5Tg  Awesome... civilization is getting to it's pea...   \n",
       "25443  xi6r3hZe5Tg      *Singapore's Changi Airport is also stunning*   \n",
       "\n",
       "                   comment_date  \n",
       "0     2023-07-26 04:11:40+00:00  \n",
       "1     2023-08-03 03:52:04+00:00  \n",
       "2     2023-08-02 15:10:36+00:00  \n",
       "4     2023-08-01 08:46:42+00:00  \n",
       "5     2023-08-01 07:57:54+00:00  \n",
       "...                         ...  \n",
       "25437 2018-11-24 13:06:36+00:00  \n",
       "25440 2018-11-24 13:03:39+00:00  \n",
       "25441 2018-11-24 13:03:13+00:00  \n",
       "25442 2018-11-24 13:02:55+00:00  \n",
       "25443 2018-11-24 13:02:52+00:00  \n",
       "\n",
       "[22164 rows x 3 columns]"
      ]
     },
     "execution_count": 27,
     "metadata": {},
     "output_type": "execute_result"
    }
   ],
   "source": [
    "all_comments_en"
   ]
  },
  {
   "cell_type": "code",
   "execution_count": 28,
   "id": "dba89157-a7bc-4a79-81fb-31fd41f9d245",
   "metadata": {},
   "outputs": [],
   "source": [
    "# save as pickle to save dtypes\n",
    "\n",
    "all_comments_en.to_pickle('./data/all_comments_en.pkl')"
   ]
  },
  {
   "cell_type": "markdown",
   "id": "17a38d70-f068-4f97-b28b-7efc47df50fe",
   "metadata": {},
   "source": [
    "### Sentiment analysis using a pre-trained model\n",
    "\n",
    "The objective of this project is to build a classification model for sentiment analysis. The raw data does not have a `y_true` label for use in testing. As such, we will use a pre-trained sentiment analysis model to get a sentiment score for each comment."
   ]
  },
  {
   "cell_type": "markdown",
   "id": "d5270d66-8ee3-46de-bb37-60d8b0015324",
   "metadata": {},
   "source": [
    "We will start with the VADER model as it was trained on social media texts. It can deal with word-shapes (eg. ALL CAPS), emojis, slang, and includes these heuristics in its sentiment calculation. As such, we have not cleaned our text of these attibutes."
   ]
  },
  {
   "cell_type": "markdown",
   "id": "79312f0e-620d-466b-8154-4dee9522fa65",
   "metadata": {},
   "source": [
    "#### Getting the labels"
   ]
  },
  {
   "cell_type": "code",
   "execution_count": 29,
   "id": "f8a4c178-9f2d-4663-9f13-48d123212593",
   "metadata": {},
   "outputs": [],
   "source": [
    "# opening pickle file\n",
    "\n",
    "comments_en = pd.read_pickle(\"data/all_comments_en.pkl\")"
   ]
  },
  {
   "cell_type": "code",
   "execution_count": 30,
   "id": "95623166-5ef0-42da-b54b-8030e9d520e6",
   "metadata": {},
   "outputs": [
    {
     "data": {
      "text/html": [
       "<div>\n",
       "<style scoped>\n",
       "    .dataframe tbody tr th:only-of-type {\n",
       "        vertical-align: middle;\n",
       "    }\n",
       "\n",
       "    .dataframe tbody tr th {\n",
       "        vertical-align: top;\n",
       "    }\n",
       "\n",
       "    .dataframe thead th {\n",
       "        text-align: right;\n",
       "    }\n",
       "</style>\n",
       "<table border=\"1\" class=\"dataframe\">\n",
       "  <thead>\n",
       "    <tr style=\"text-align: right;\">\n",
       "      <th></th>\n",
       "      <th>video_id</th>\n",
       "      <th>comment</th>\n",
       "      <th>comment_date</th>\n",
       "    </tr>\n",
       "  </thead>\n",
       "  <tbody>\n",
       "    <tr>\n",
       "      <th>0</th>\n",
       "      <td>xJlgtV8L7Jc</td>\n",
       "      <td>For more on this: https://sc.mp/gjys</td>\n",
       "      <td>2023-07-26 04:11:40+00:00</td>\n",
       "    </tr>\n",
       "    <tr>\n",
       "      <th>1</th>\n",
       "      <td>xJlgtV8L7Jc</td>\n",
       "      <td>Yes,  punish the criminals , not the innocent ...</td>\n",
       "      <td>2023-08-03 03:52:04+00:00</td>\n",
       "    </tr>\n",
       "    <tr>\n",
       "      <th>2</th>\n",
       "      <td>xJlgtV8L7Jc</td>\n",
       "      <td>Flor Contemplacion had been there. Filipinos k...</td>\n",
       "      <td>2023-08-02 15:10:36+00:00</td>\n",
       "    </tr>\n",
       "    <tr>\n",
       "      <th>4</th>\n",
       "      <td>xJlgtV8L7Jc</td>\n",
       "      <td>Don't mind these westoids. I'm half Indonesian...</td>\n",
       "      <td>2023-08-01 08:46:42+00:00</td>\n",
       "    </tr>\n",
       "    <tr>\n",
       "      <th>5</th>\n",
       "      <td>xJlgtV8L7Jc</td>\n",
       "      <td>No wonder Singapore has the most powerful pass...</td>\n",
       "      <td>2023-08-01 07:57:54+00:00</td>\n",
       "    </tr>\n",
       "  </tbody>\n",
       "</table>\n",
       "</div>"
      ],
      "text/plain": [
       "      video_id                                            comment  \\\n",
       "0  xJlgtV8L7Jc               For more on this: https://sc.mp/gjys   \n",
       "1  xJlgtV8L7Jc  Yes,  punish the criminals , not the innocent ...   \n",
       "2  xJlgtV8L7Jc  Flor Contemplacion had been there. Filipinos k...   \n",
       "4  xJlgtV8L7Jc  Don't mind these westoids. I'm half Indonesian...   \n",
       "5  xJlgtV8L7Jc  No wonder Singapore has the most powerful pass...   \n",
       "\n",
       "               comment_date  \n",
       "0 2023-07-26 04:11:40+00:00  \n",
       "1 2023-08-03 03:52:04+00:00  \n",
       "2 2023-08-02 15:10:36+00:00  \n",
       "4 2023-08-01 08:46:42+00:00  \n",
       "5 2023-08-01 07:57:54+00:00  "
      ]
     },
     "execution_count": 30,
     "metadata": {},
     "output_type": "execute_result"
    }
   ],
   "source": [
    "comments_en.head()"
   ]
  },
  {
   "cell_type": "code",
   "execution_count": 31,
   "id": "5d83473d-c7a3-4da0-82b7-7ac209c48c16",
   "metadata": {},
   "outputs": [],
   "source": [
    "# instantiating the model \n",
    "\n",
    "from nltk.sentiment.vader import SentimentIntensityAnalyzer\n",
    "\n",
    "sia = SentimentIntensityAnalyzer()"
   ]
  },
  {
   "cell_type": "code",
   "execution_count": 32,
   "id": "797a4169-2ae1-4d32-8ba3-2edbab644bde",
   "metadata": {},
   "outputs": [],
   "source": [
    "def get_sentiment_score(text):\n",
    "    score = sia.polarity_scores(text)\n",
    "    return score"
   ]
  },
  {
   "cell_type": "code",
   "execution_count": 33,
   "id": "72362a09-a47a-429b-a0ac-b1ca226a539d",
   "metadata": {},
   "outputs": [
    {
     "data": {
      "text/plain": [
       "Index(['video_id', 'comment', 'comment_date'], dtype='object')"
      ]
     },
     "execution_count": 33,
     "metadata": {},
     "output_type": "execute_result"
    }
   ],
   "source": [
    "comments_en.columns"
   ]
  },
  {
   "cell_type": "code",
   "execution_count": 34,
   "id": "c344b225-75f9-4162-a480-affb5ec389c2",
   "metadata": {},
   "outputs": [],
   "source": [
    "comments_en['sentiment_score'] = comments_en['comment'].apply(get_sentiment_score)"
   ]
  },
  {
   "cell_type": "code",
   "execution_count": 35,
   "id": "ce19f457-d485-430a-951b-08f4d688526d",
   "metadata": {},
   "outputs": [],
   "source": [
    "compound_senti = []\n",
    "\n",
    "for ss in comments_en['sentiment_score'].values:\n",
    "    s_score = ss.get('compound')\n",
    "    compound_senti.append(s_score)"
   ]
  },
  {
   "cell_type": "code",
   "execution_count": 36,
   "id": "fac5421e-db61-474d-ba74-bcf10c40ddb1",
   "metadata": {},
   "outputs": [],
   "source": [
    "comments_en['compound'] = compound_senti"
   ]
  },
  {
   "cell_type": "markdown",
   "id": "14c4ba4a-60a7-4028-880f-944dd79a9fec",
   "metadata": {},
   "source": [
    "The generally accepted threshold values for VADER are:\n",
    "\n",
    "- positive sentiment: compound score >= 0.05\n",
    "- neutral sentiment: (compound score > -0.05) and (compound score < 0.05)\n",
    "- negative sentiment: compound score <= -0.05\n",
    "\n",
    "In addition, as this model will be used to train a binary classification, we will combine the positive and neutral into one group."
   ]
  },
  {
   "cell_type": "code",
   "execution_count": 37,
   "id": "8f7fb135-cdfd-4513-878e-8b2b6499591a",
   "metadata": {},
   "outputs": [],
   "source": [
    "sentiment=[]\n",
    "\n",
    "for i in range(0, len(comments_en)):\n",
    "    if comments_en['compound'].values[i] >= 0.05:\n",
    "        sentiment.append('positive')\n",
    "    elif comments_en['compound'].values[i] <= -0.05:\n",
    "        sentiment.append('negative')\n",
    "    else:\n",
    "        sentiment.append('neutral')"
   ]
  },
  {
   "cell_type": "code",
   "execution_count": 38,
   "id": "af636489-4b9f-4c64-ba57-bf45897270bd",
   "metadata": {},
   "outputs": [],
   "source": [
    "comments_en['sentiment'] = sentiment"
   ]
  },
  {
   "cell_type": "code",
   "execution_count": 39,
   "id": "bee2617d-4682-4f34-a1ec-e91da206df4b",
   "metadata": {},
   "outputs": [],
   "source": [
    "comments_en.reset_index(inplace=True)"
   ]
  },
  {
   "cell_type": "code",
   "execution_count": 40,
   "id": "d54247e3-4acf-4689-b8d4-eabf4447843c",
   "metadata": {},
   "outputs": [],
   "source": [
    "comments_en.drop(columns='index', inplace=True)"
   ]
  },
  {
   "cell_type": "code",
   "execution_count": 41,
   "id": "c3d6edbf-f6cf-4d23-92b3-33f5825ca528",
   "metadata": {},
   "outputs": [],
   "source": [
    "comments_en['binary'] = comments_en['sentiment'].map({'neutral' : 1, 'positive' : 1, 'negative': 0})"
   ]
  },
  {
   "cell_type": "code",
   "execution_count": 42,
   "id": "fc9f03e1-b18f-4c94-ab56-9ac58b3a73d0",
   "metadata": {},
   "outputs": [
    {
     "data": {
      "text/html": [
       "<div>\n",
       "<style scoped>\n",
       "    .dataframe tbody tr th:only-of-type {\n",
       "        vertical-align: middle;\n",
       "    }\n",
       "\n",
       "    .dataframe tbody tr th {\n",
       "        vertical-align: top;\n",
       "    }\n",
       "\n",
       "    .dataframe thead th {\n",
       "        text-align: right;\n",
       "    }\n",
       "</style>\n",
       "<table border=\"1\" class=\"dataframe\">\n",
       "  <thead>\n",
       "    <tr style=\"text-align: right;\">\n",
       "      <th></th>\n",
       "      <th>video_id</th>\n",
       "      <th>comment</th>\n",
       "      <th>comment_date</th>\n",
       "      <th>sentiment_score</th>\n",
       "      <th>compound</th>\n",
       "      <th>sentiment</th>\n",
       "      <th>binary</th>\n",
       "    </tr>\n",
       "  </thead>\n",
       "  <tbody>\n",
       "    <tr>\n",
       "      <th>0</th>\n",
       "      <td>xJlgtV8L7Jc</td>\n",
       "      <td>For more on this: https://sc.mp/gjys</td>\n",
       "      <td>2023-07-26 04:11:40+00:00</td>\n",
       "      <td>{'neg': 0.0, 'neu': 1.0, 'pos': 0.0, 'compound...</td>\n",
       "      <td>0.0000</td>\n",
       "      <td>neutral</td>\n",
       "      <td>1</td>\n",
       "    </tr>\n",
       "    <tr>\n",
       "      <th>1</th>\n",
       "      <td>xJlgtV8L7Jc</td>\n",
       "      <td>Yes,  punish the criminals , not the innocent ...</td>\n",
       "      <td>2023-08-03 03:52:04+00:00</td>\n",
       "      <td>{'neg': 0.577, 'neu': 0.253, 'pos': 0.17, 'com...</td>\n",
       "      <td>-0.7533</td>\n",
       "      <td>negative</td>\n",
       "      <td>0</td>\n",
       "    </tr>\n",
       "    <tr>\n",
       "      <th>2</th>\n",
       "      <td>xJlgtV8L7Jc</td>\n",
       "      <td>Flor Contemplacion had been there. Filipinos k...</td>\n",
       "      <td>2023-08-02 15:10:36+00:00</td>\n",
       "      <td>{'neg': 0.0, 'neu': 1.0, 'pos': 0.0, 'compound...</td>\n",
       "      <td>0.0000</td>\n",
       "      <td>neutral</td>\n",
       "      <td>1</td>\n",
       "    </tr>\n",
       "    <tr>\n",
       "      <th>3</th>\n",
       "      <td>xJlgtV8L7Jc</td>\n",
       "      <td>Don't mind these westoids. I'm half Indonesian...</td>\n",
       "      <td>2023-08-01 08:46:42+00:00</td>\n",
       "      <td>{'neg': 0.0, 'neu': 0.824, 'pos': 0.176, 'comp...</td>\n",
       "      <td>0.4588</td>\n",
       "      <td>positive</td>\n",
       "      <td>1</td>\n",
       "    </tr>\n",
       "    <tr>\n",
       "      <th>4</th>\n",
       "      <td>xJlgtV8L7Jc</td>\n",
       "      <td>No wonder Singapore has the most powerful pass...</td>\n",
       "      <td>2023-08-01 07:57:54+00:00</td>\n",
       "      <td>{'neg': 0.099, 'neu': 0.763, 'pos': 0.139, 'co...</td>\n",
       "      <td>0.2247</td>\n",
       "      <td>positive</td>\n",
       "      <td>1</td>\n",
       "    </tr>\n",
       "    <tr>\n",
       "      <th>...</th>\n",
       "      <td>...</td>\n",
       "      <td>...</td>\n",
       "      <td>...</td>\n",
       "      <td>...</td>\n",
       "      <td>...</td>\n",
       "      <td>...</td>\n",
       "      <td>...</td>\n",
       "    </tr>\n",
       "    <tr>\n",
       "      <th>22159</th>\n",
       "      <td>xi6r3hZe5Tg</td>\n",
       "      <td>+1 science is difficult</td>\n",
       "      <td>2018-11-24 13:06:36+00:00</td>\n",
       "      <td>{'neg': 0.455, 'neu': 0.545, 'pos': 0.0, 'comp...</td>\n",
       "      <td>-0.3612</td>\n",
       "      <td>negative</td>\n",
       "      <td>0</td>\n",
       "    </tr>\n",
       "    <tr>\n",
       "      <th>22160</th>\n",
       "      <td>xi6r3hZe5Tg</td>\n",
       "      <td>I live in Australia and have always wanted to ...</td>\n",
       "      <td>2018-11-24 13:03:39+00:00</td>\n",
       "      <td>{'neg': 0.0, 'neu': 1.0, 'pos': 0.0, 'compound...</td>\n",
       "      <td>0.0000</td>\n",
       "      <td>neutral</td>\n",
       "      <td>1</td>\n",
       "    </tr>\n",
       "    <tr>\n",
       "      <th>22161</th>\n",
       "      <td>xi6r3hZe5Tg</td>\n",
       "      <td>yeah! second here ❤</td>\n",
       "      <td>2018-11-24 13:03:13+00:00</td>\n",
       "      <td>{'neg': 0.0, 'neu': 0.445, 'pos': 0.555, 'comp...</td>\n",
       "      <td>0.3595</td>\n",
       "      <td>positive</td>\n",
       "      <td>1</td>\n",
       "    </tr>\n",
       "    <tr>\n",
       "      <th>22162</th>\n",
       "      <td>xi6r3hZe5Tg</td>\n",
       "      <td>Awesome... civilization is getting to it's pea...</td>\n",
       "      <td>2018-11-24 13:02:55+00:00</td>\n",
       "      <td>{'neg': 0.0, 'neu': 1.0, 'pos': 0.0, 'compound...</td>\n",
       "      <td>0.0000</td>\n",
       "      <td>neutral</td>\n",
       "      <td>1</td>\n",
       "    </tr>\n",
       "    <tr>\n",
       "      <th>22163</th>\n",
       "      <td>xi6r3hZe5Tg</td>\n",
       "      <td>*Singapore's Changi Airport is also stunning*</td>\n",
       "      <td>2018-11-24 13:02:52+00:00</td>\n",
       "      <td>{'neg': 0.0, 'neu': 1.0, 'pos': 0.0, 'compound...</td>\n",
       "      <td>0.0000</td>\n",
       "      <td>neutral</td>\n",
       "      <td>1</td>\n",
       "    </tr>\n",
       "  </tbody>\n",
       "</table>\n",
       "<p>22164 rows × 7 columns</p>\n",
       "</div>"
      ],
      "text/plain": [
       "          video_id                                            comment  \\\n",
       "0      xJlgtV8L7Jc               For more on this: https://sc.mp/gjys   \n",
       "1      xJlgtV8L7Jc  Yes,  punish the criminals , not the innocent ...   \n",
       "2      xJlgtV8L7Jc  Flor Contemplacion had been there. Filipinos k...   \n",
       "3      xJlgtV8L7Jc  Don't mind these westoids. I'm half Indonesian...   \n",
       "4      xJlgtV8L7Jc  No wonder Singapore has the most powerful pass...   \n",
       "...            ...                                                ...   \n",
       "22159  xi6r3hZe5Tg                            +1 science is difficult   \n",
       "22160  xi6r3hZe5Tg  I live in Australia and have always wanted to ...   \n",
       "22161  xi6r3hZe5Tg                                yeah! second here ❤   \n",
       "22162  xi6r3hZe5Tg  Awesome... civilization is getting to it's pea...   \n",
       "22163  xi6r3hZe5Tg      *Singapore's Changi Airport is also stunning*   \n",
       "\n",
       "                   comment_date  \\\n",
       "0     2023-07-26 04:11:40+00:00   \n",
       "1     2023-08-03 03:52:04+00:00   \n",
       "2     2023-08-02 15:10:36+00:00   \n",
       "3     2023-08-01 08:46:42+00:00   \n",
       "4     2023-08-01 07:57:54+00:00   \n",
       "...                         ...   \n",
       "22159 2018-11-24 13:06:36+00:00   \n",
       "22160 2018-11-24 13:03:39+00:00   \n",
       "22161 2018-11-24 13:03:13+00:00   \n",
       "22162 2018-11-24 13:02:55+00:00   \n",
       "22163 2018-11-24 13:02:52+00:00   \n",
       "\n",
       "                                         sentiment_score  compound sentiment  \\\n",
       "0      {'neg': 0.0, 'neu': 1.0, 'pos': 0.0, 'compound...    0.0000   neutral   \n",
       "1      {'neg': 0.577, 'neu': 0.253, 'pos': 0.17, 'com...   -0.7533  negative   \n",
       "2      {'neg': 0.0, 'neu': 1.0, 'pos': 0.0, 'compound...    0.0000   neutral   \n",
       "3      {'neg': 0.0, 'neu': 0.824, 'pos': 0.176, 'comp...    0.4588  positive   \n",
       "4      {'neg': 0.099, 'neu': 0.763, 'pos': 0.139, 'co...    0.2247  positive   \n",
       "...                                                  ...       ...       ...   \n",
       "22159  {'neg': 0.455, 'neu': 0.545, 'pos': 0.0, 'comp...   -0.3612  negative   \n",
       "22160  {'neg': 0.0, 'neu': 1.0, 'pos': 0.0, 'compound...    0.0000   neutral   \n",
       "22161  {'neg': 0.0, 'neu': 0.445, 'pos': 0.555, 'comp...    0.3595  positive   \n",
       "22162  {'neg': 0.0, 'neu': 1.0, 'pos': 0.0, 'compound...    0.0000   neutral   \n",
       "22163  {'neg': 0.0, 'neu': 1.0, 'pos': 0.0, 'compound...    0.0000   neutral   \n",
       "\n",
       "       binary  \n",
       "0           1  \n",
       "1           0  \n",
       "2           1  \n",
       "3           1  \n",
       "4           1  \n",
       "...       ...  \n",
       "22159       0  \n",
       "22160       1  \n",
       "22161       1  \n",
       "22162       1  \n",
       "22163       1  \n",
       "\n",
       "[22164 rows x 7 columns]"
      ]
     },
     "execution_count": 42,
     "metadata": {},
     "output_type": "execute_result"
    }
   ],
   "source": [
    "comments_en"
   ]
  },
  {
   "cell_type": "markdown",
   "id": "4cedbbc5-c2d0-4278-a843-028be7024755",
   "metadata": {},
   "source": [
    "#### Testing the labels\n",
    "\n",
    "We will manually sample 100 random rows to check if VADER has accurately labelled the sentiment."
   ]
  },
  {
   "cell_type": "code",
   "execution_count": 43,
   "id": "eb6cf2f4-d9b8-4963-93e7-da5f8c0a9d12",
   "metadata": {},
   "outputs": [
    {
     "data": {
      "text/plain": [
       "array([15361, 20914, 14231, 20369, 11848, 14385, 15052,  9924,  2671,\n",
       "        3541,  6826, 17065,  6041, 14213,   358, 15657,   149, 10211,\n",
       "       20185, 16834,  2487, 14704,  3649, 16701,  4332,  5974,  4549,\n",
       "       17203, 20620,   605, 10154,  1770,  4349,  3172,  2260, 17974,\n",
       "        5464, 16786, 11257, 10756,  8333,  5278, 12461,  4301, 11613,\n",
       "        2335, 18963,  1984,  1043,  4576, 13297, 17499,  6460, 15585,\n",
       "        8493,  9914,  5137, 12724, 18734,  4011, 21959, 15368,  2295,\n",
       "       19901,  8171,  5914,  1833, 17785, 11059, 14665,  1370, 16412,\n",
       "        8490, 20997, 10314, 10346, 20902,  7349,  8790,  6730, 12093,\n",
       "        8873, 12981,  9182, 21826,  2688, 15471, 19618,  8161, 11477,\n",
       "       11000, 21890, 17656, 17686, 21651, 19344, 14202, 18203,   827,\n",
       "       11827])"
      ]
     },
     "execution_count": 43,
     "metadata": {},
     "output_type": "execute_result"
    }
   ],
   "source": [
    "# use np.rand to generate 100 rows from our dataset\n",
    "\n",
    "np.random.seed(123)\n",
    "row_no = np.random.choice(range(0,len(comments_en)), size=100, replace=False)\n",
    "row_no"
   ]
  },
  {
   "cell_type": "code",
   "execution_count": 44,
   "id": "f4c3d1d2-fa1c-472d-b408-340d0b3faa28",
   "metadata": {
    "scrolled": true
   },
   "outputs": [
    {
     "name": "stdout",
     "output_type": "stream",
     "text": [
      "1\n",
      "1\n",
      "1\n",
      "1\n",
      "0\n",
      "0\n",
      "1\n",
      "0\n",
      "0\n",
      "0\n",
      "1\n",
      "1\n",
      "1\n",
      "0\n",
      "1\n",
      "1\n",
      "1\n",
      "1\n",
      "1\n",
      "1\n",
      "0\n",
      "1\n",
      "0\n",
      "0\n",
      "1\n",
      "1\n",
      "1\n",
      "1\n",
      "1\n",
      "1\n",
      "0\n",
      "0\n",
      "1\n",
      "0\n",
      "0\n",
      "1\n",
      "0\n",
      "1\n",
      "1\n",
      "1\n",
      "1\n",
      "1\n",
      "1\n",
      "0\n",
      "1\n",
      "1\n",
      "0\n",
      "0\n",
      "0\n",
      "1\n",
      "1\n",
      "1\n",
      "1\n",
      "1\n",
      "0\n",
      "1\n",
      "0\n",
      "1\n",
      "1\n",
      "1\n",
      "0\n",
      "1\n",
      "1\n",
      "1\n",
      "1\n",
      "1\n",
      "0\n",
      "1\n",
      "1\n",
      "1\n",
      "1\n",
      "1\n",
      "1\n",
      "1\n",
      "1\n",
      "1\n",
      "1\n",
      "0\n",
      "1\n",
      "0\n",
      "1\n",
      "1\n",
      "1\n",
      "1\n",
      "0\n",
      "0\n",
      "1\n",
      "1\n",
      "1\n",
      "0\n",
      "1\n",
      "1\n",
      "1\n",
      "1\n",
      "1\n",
      "1\n",
      "1\n",
      "1\n",
      "0\n",
      "1\n"
     ]
    }
   ],
   "source": [
    "# get VADER's analysis\n",
    "\n",
    "pd.set_option('display.max_colwidth', None)\n",
    "\n",
    "for no in row_no:\n",
    "    vader_sentiment = comments_en.iloc[no]['binary']\n",
    "    print(vader_sentiment)"
   ]
  },
  {
   "cell_type": "code",
   "execution_count": 45,
   "id": "8b7a5cbb-944d-4d74-84ef-1fec1d09191d",
   "metadata": {
    "scrolled": true
   },
   "outputs": [
    {
     "name": "stdout",
     "output_type": "stream",
     "text": [
      "comment    Now this is why I want to go to Singapore 🇸🇬\n",
      "Name: 15361, dtype: object\n",
      "comment    I love there schooling.\n",
      "Name: 20914, dtype: object\n",
      "comment    I love your teshirt bro\n",
      "Name: 14231, dtype: object\n",
      "comment    Singapore is the most underrated tech savvy and wealthy city on earth, it’s becoming bigger and better than Dubai, and most people don’t even talk about it or see it as a poor region\n",
      "Name: 20369, dtype: object\n",
      "comment    I live there and when I went to us I was like wtf\n",
      "Name: 11848, dtype: object\n",
      "comment    stupid people here on Balkans once have had that multi ethnic policy based country, and they ruined it. They think are better with hating each others.\n",
      "Name: 14385, dtype: object\n",
      "comment    Singapore is my fav country, USA, Canada, Russia, Indonesia and Malaysia (my country)\n",
      "Name: 15052, dtype: object\n",
      "comment    i can guarantee there are a lot of unhappy people in Singapore\n",
      "Name: 9924, dtype: object\n",
      "comment    Here in philippines thousands of drug pushers and users are dead because of our former president duterte our numbers are higher than yours 😂\n",
      "Name: 2671, dtype: object\n",
      "comment    Any Singaporean who is against the death penalty for drug trafficking should take a trip to South America where entire societies have collapsed due to drug gangs and drug crimes, causing a major refugee crisis.\n",
      "Name: 3541, dtype: object\n",
      "comment    Chang gai airport. xD Its pronounced as Cha-ang-Yi.\n",
      "Name: 6826, dtype: object\n",
      "comment    gum is fixed they make gum to shoes\n",
      "Name: 17065, dtype: object\n",
      "comment    Singapore the 4th richest nation on earth?\\nWhich earth?\n",
      "Name: 6041, dtype: object\n",
      "comment    And one day china will come and claim their land too and will try to fuck them up 😂😂\n",
      "Name: 14213, dtype: object\n",
      "comment    I fully support zero tolerance towards drugs, peddlers, and end users.\n",
      "Name: 358, dtype: object\n",
      "comment    Im proud that my grandpa is from Singapore\n",
      "Name: 15657, dtype: object\n",
      "comment    I have to remind myself that some birds aren't meant to be caged. Their feathers are just too bright. And when they fly away, the part of you that knows it was a sin to lock them up DOES rejoice. But still, the place you live in is that much more drab and empty that they're gone. I guess I just miss my friend. Red 1994\n",
      "Name: 149, dtype: object\n",
      "comment    There’s something fishy here… I’m Swedish, and I still haven’t voted in the 2022 election yet.\\n(I guess I need to fix my time machine, as the “future” mode is a bit wonky at the moment)\n",
      "Name: 10211, dtype: object\n",
      "comment    watch my video mandau fly on my youtube channel arganamura channel, subscribe, watch the video, like the video and share the video\n",
      "Name: 20185, dtype: object\n",
      "comment    Singapore has no freedom of press\n",
      "Name: 16834, dtype: object\n",
      "comment    Remove death patently from Singapore and you will see it’s getting buried to dust like Sri Lankan!!!\n",
      "Name: 2487, dtype: object\n",
      "comment    I live in Singapore\n",
      "Name: 14704, dtype: object\n",
      "comment    If you can't make mistakes the death penalty might be a solution. However mistakes are made and their is no point saying sorry to a dead person\n",
      "Name: 3649, dtype: object\n",
      "comment    My only problem is my depression\n",
      "Name: 16701, dtype: object\n",
      "comment    If iam not mistaken the country is heavily funded by US.\n",
      "Name: 4332, dtype: object\n",
      "comment    Misleading thumbnail right there. Malaysia is not a poor country. Rather,  it is an upper-middle income country and is set become a fully high income nation by 2024 according to The World Bank. Please manifest your professionalism. You've officially lost my trust and subscription.\\n\\nEdit: Oh they actually changed the thumbnail :0\\nEdit 2: They changed it back to the original.\n",
      "Name: 5974, dtype: object\n",
      "comment    poorly researched video. why hammer on the ethos of working hard when this is one trait that will bring the best out of us? for the rest of ur points, please do more research. have u seen how our public housing looks like?\n",
      "Name: 4549, dtype: object\n",
      "comment    I’m buying a ticket in 6 business days\n",
      "Name: 17203, dtype: object\n",
      "comment    It is sad that Singapore are located near to the equatorial climate..would be fun if it’s located in Europe with snow and 4 season\n",
      "Name: 20620, dtype: object\n",
      "comment    In many countries around the world, cannabis is legalized for recreational use. In Singapore however, the government has executed people for cannabis trafficking. So how is that even justified?\n",
      "Name: 605, dtype: object\n",
      "comment    Asian democratic governance style - if it ain't broke, don't change it. Only a major crisis could motivate people to change just like what happened to Indonesia during currency crisis in 1998, or Malaysia political scandal in 2018.\n",
      "Name: 10154, dtype: object\n",
      "comment    What do you think will happen if the mandatory death penalty being abolished?\n",
      "Name: 1770, dtype: object\n",
      "comment    this is true.... 👍\n",
      "Name: 4349, dtype: object\n",
      "comment    The best deterrent is capital punishment. Singapore is well controlled and protected from drug trafficking! Though not perfect but Singapore is as clean as it possibly can, from drug influences. YES for death penalty!\n",
      "Name: 3172, dtype: object\n",
      "comment    I think 💭 Govt is right if it’s proven !!!!! There are lot of poor people over All world 🌍 but it doesn’t mean you traffic drugs . Anyone that’s caught on the act doesn’t care of other people kids and all so here protest looks kinda not cool\n",
      "Name: 2260, dtype: object\n",
      "comment    Actually Singapore password is the second strongest passport number 1 is japan\n",
      "Name: 17974, dtype: object\n",
      "comment    Let’s be real, Malaysia ain’t poor but it is hella racist so-\n",
      "Name: 5464, dtype: object\n",
      "comment    That is true I'm a Singaporean\n",
      "Name: 16786, dtype: object\n",
      "comment    Looking at 11:13 reminds me of a provocative quote by Lee Kuan Yew.\\n\\n“You’re talking about Rwanda or Bangladesh, or Cambodia, or the Philippines. They’ve got democracy ... But have you got a civilized life to lead? People want economic development first and foremost. The leaders may talk something else. You take a poll of any people. What is it they want? The right to write an editorial as you like? They want homes, medicine, jobs, schools.”\\n\\n\\r\\n— Lee Kuan Yew, The Man and His Ideas, 1997\n",
      "Name: 11257, dtype: object\n",
      "comment    If you  had to choose, which would YOU rather live in? \\nA nation with a dysfunctional democracy, or a functional dictatorship?  \\nThere are many dysfunctional democracies in the world and the US calls them sh1t h0les. Singapore is not among those places.\n",
      "Name: 10756, dtype: object\n",
      "comment    No one in SG wants this lousy but highly paid job. So we had input another tiny party to voice our complaint voice through them. United we stand for Safe Place , Clean Place & a country we proudly wants!\n",
      "Name: 8333, dtype: object\n",
      "comment    y'know as a child, I believed that Singapore wasn't very well known because we were a smoll country. also I like how we reuse our pee and poo water and turn it into clean drinking water, it might be disgusting but hey at least its clean ¯\\_(ツ)_/¯ bubble gum here is banned so if you plan on coming to Singapore for a vacation or something like that, chew on it at the hotel but you have to throw it after, its not illegal to eat bubble gum as long as it is not stuck anywhere like 1 of my friends got bubble gum from idk where and brought it to school (she got in trouble bc she was chewing on it during class also someone snitched on her)but its just recommended I guess??I'm not exactly sure so just don't bring or buy any\n",
      "Name: 5278, dtype: object\n",
      "comment    The view is so beautiful at night such a beautiful country\n",
      "Name: 12461, dtype: object\n",
      "comment    Every country have complaints from the under achievers. \\nEven Australia have many complaints….hahahaha.LOL. \\nI am a Malaysian and we have loads of complaints.\n",
      "Name: 4301, dtype: object\n",
      "comment    4:13  Bas Naily, how dare you.\n",
      "Name: 11613, dtype: object\n",
      "comment    Want Government is done is a good job 👍\n",
      "Name: 2335, dtype: object\n",
      "comment    Maybe we should also encourage smaller families globally, to reduce our global population and reduce \\nthe problems our growing human population creates.  Smaller families usually means smaller problems.  \\nLarger families usually means larger problems.\n",
      "Name: 18963, dtype: object\n",
      "comment    Most of the people that get executed was some Asian dude earning 300$ per trip smuggling drug 😂😂😂 , no gov can take war on drug directly to the boss\n",
      "Name: 1984, dtype: object\n",
      "comment    I am a Filipino and death penalty should be returned in the Philippines. That will curb extralegal killings, and proliferation of illegal drugs, vice, and violence in the country. Our legislature and President Marcos (son of the late great President Ferdinand E. Marcos) should make it a reality.\n",
      "Name: 1043, dtype: object\n",
      "comment    As a Singaporean born and bred, there's always 2 sides to the coin. Sure, we are not as liberal compared to some Western democracies but I'm glad that our govt doesn't copy wholesale from foreign governments because it simply won't work in Singapore due to our mixture of different race, religion and culture within, not to mention that we're surrounded by neighbours who may pick fault with us if we stand out too much from the rest of the ASEAN nations. \\n\\nSingapore Government recognises the housing issue and is willing to introduce market cooling measures. Unlike Hong Kong, young Singaporeans have more realistic chance of \"owning\" public housing because we're required to contribute certain percentage of our monthly wages into CPF which can then be used to pay for a variety of essentials such as housing loans, medical and school fees, similar to how social securities work in Western countries I assume. The key here is to live within your means and don't get smart by flipping public housing properties unless you are very sure about what you're getting into. \\n\\nCompare to some of our ASEAN neighbours, corruption and crime rate is very low in Singapore as authorities come down hard on perpetuators, giving people and investors confidence to set up businesses in Singapore which in turn offer job opportunities. Public infrastructures are well planned and public transport works well 98% of the time in my humble opinion. Bottomline: things generally work the way you expect them to be in Singapore. Some Singaporeans take these conveniences for granted because they've probably never step foot outside the country for extended period of time. \\n\\nIn terms of population, most of our forefathers were immigrants from all parts of the work and I think SG government will not hesitate to bring in foreigners en mass if our birth rate continues to fall, since human workforce is vital for Singapore's progress. This by itself is worrying for Singaporeans, but the giant wheels of Singapore Incorporated will not stop simply because of our reluctance to comply. Our strong currency and relatively high quality of life in ASEAN means most ASEAN citizens are willing to work here and hopefully take roots in Singapore. The challenge is how will the SG government cultivate a sense of belonging and loyalty among these new citizens so that they won't run away at the first sign of trouble should Singapore gets drawn into any global disputes. \\n\\nMy complaint is that there's no soul to Singapore because everything looks glossy and man-made. We don't have the luxury of countries like Japan or Korea where the population is more homogenous because they have centuries of cultural grounding. Change is the only constant in Singapore and if Singaporeans don't catch up, then we'll easily become obsolete on regional and global stages. In life there will always be trade-offs. Not everyone can have their pie and eat it.\n",
      "Name: 4576, dtype: object\n",
      "comment    Me an indian:\\nI see a opposite country exist\n",
      "Name: 13297, dtype: object\n",
      "comment    Every country should be like Singapore\n",
      "Name: 17499, dtype: object\n",
      "comment    Rich but lives like a slave worker with their super expensive chicken coop house in their puny island with the highest suicide rates in ASEAN...not worth it...Plus this video is glorifying a dictator which is the most repulsive & sickest thing ever..yuck🐷🐷👎👎🤢🤢🤮🤮🤮\n",
      "Name: 6460, dtype: object\n",
      "comment    I am happy I live in Singapore🇸🇬\n",
      "Name: 15585, dtype: object\n",
      "comment    Why would you riot against your employer when you can get the government to do it for you. What a FINE country.\n",
      "Name: 8493, dtype: object\n",
      "comment    Bruh finally. Omg.\n",
      "Name: 9914, dtype: object\n",
      "comment    The situation may reverse soon, Malaysia has resources, oil, palm oil, minerals etc., It has good infrastructure, roads, rail, airports,  sea ports, labor, large population.\\nWhat has Singapore got, not much, it's shipping is going to decline when China exports through the Myanmar port.  It's banking services (mainly money laundering) will be dead when CBDC becomes the main trading currency.\\nI can only see a very uncertain future for Singapore unless it changes from a trading hub into something else, the question is what?\n",
      "Name: 5137, dtype: object\n",
      "comment    Nas Daily logve ur vids!\n",
      "Name: 12724, dtype: object\n",
      "comment    I watch this documentary for more 20 times , and fall in love with this great  city and country SINGAPORE, a great example of real success with no resources\n",
      "Name: 18734, dtype: object\n",
      "comment    Singaporeans need to see the world. You, personally will benefit by seeing how others live. You don't have to work 24/7 to be successful and happy. Avoid the US, trust me there are better countries that encourage work life balance...try France, Spain and Portugal.\n",
      "Name: 4011, dtype: object\n",
      "comment    These people need to do this for the rest of the world or teach other countries, there’s a lot of problems around the world that these guys are scratching at already, that seems the us have been slacking on getting the ball rolling.\n",
      "Name: 21959, dtype: object\n",
      "comment    *Me sees the Philippines on the map* \\nMe😳\\n\\n\\n\\n\\n\\n\\nDo u love Philippines? Or from Philippines?\\n👇🏻🇵🇭❤️\n",
      "Name: 15368, dtype: object\n",
      "comment    I do think 50 grams above should be in considered. Not less.\n",
      "Name: 2295, dtype: object\n",
      "comment    You see, we use the\\nE a s t\\nC o a s t\\nP l a n\n",
      "Name: 19901, dtype: object\n",
      "comment    That was fantastic! I always sorta suspected that dictatorships could work if the party or person was benevolent enough, but that the risk was too high that one day it would inevitably dissolve. As you say, the cost is maintaining control, while the benefit is lack of constraint. For me, I started thinking about this when I heard (in passing) that Socrates was an open critic of democracy, but ultimately begrudged that it was the least worst option.\n",
      "Name: 8171, dtype: object\n",
      "comment    Comment section full of old geezers who visited Singapore 40 years ago!\n",
      "Name: 5914, dtype: object\n",
      "comment    Drugs destroys lifes. We know the rules. Dont try to halal something that is not. In temporary life as muslim we can say whatever we want but u cant hereafter. Period\n",
      "Name: 1833, dtype: object\n",
      "comment    I didn't need to hear that the water poo water was converted to regular water because now if I go that's all I will see it as lol\n",
      "Name: 17785, dtype: object\n",
      "comment    01:35 Correct results for Sweden in 2018. The result for 2022 however will have to wait until the election 😉\n",
      "Name: 11059, dtype: object\n",
      "comment    I looked at that building like: is that Singapore \\n\\nLooks like I’m correct I feel pro\n",
      "Name: 14665, dtype: object\n",
      "comment    Low-key just wanna smoke some weed tbh\n",
      "Name: 1370, dtype: object\n",
      "comment    My right neighbor is chinese and my left is india :>\n",
      "Name: 16412, dtype: object\n",
      "comment    In a country where there is no freedom of expression a single party rules every thing? Not a surprise.\n",
      "Name: 8490, dtype: object\n",
      "comment    If Singapore were to be in the MCU, the country would be Wakanda, Lee Kuan Yew would be the late King T'chaka and PM Lee would be the current King T'challa (aka Black Panther). The rest of the government leaders would be the corresponding Avengers.\n",
      "Name: 20997, dtype: object\n",
      "comment    I can only say one thing: It works!\n",
      "Name: 10314, dtype: object\n",
      "comment    Here before this video gets taken down by Singapore\n",
      "Name: 10346, dtype: object\n",
      "comment    Can you give differente textures to printed food?\n",
      "Name: 20902, dtype: object\n",
      "comment    Singapore isn't incredibly well designed. North American cities just really suck ass, get over it. Singapore is still really pedestrian unfriendly but of course compared to the USA everything is well designed\n",
      "Name: 7349, dtype: object\n",
      "comment    1 million views in a month's time? Must be shtty title. Another white westerner's POV and calling others as they like. Guess taking over the Capital, taking an 'anti' stance on everything from 'masks', 'vaccines' or 'lockdown', and fighting with police and shooting fellow countrymen, are ALL part of the 'demon-cracy'.\\n\\n2:00 Our existence baffles Only the dumbsters who think they know the world. And we are not under any 'dictatorship', you humoy-dumpy goony. It's called 'strong governance' which we Singaporeans have voted for the ruling party time and again because they have delivered. Once they failed, our votes go to the Opposition. Simple enough for your 'baffled' brain?\n",
      "Name: 8790, dtype: object\n",
      "comment    When you thrown out into a Ironman Mode-Hell Difficulty in Real Time Strategy Game\n",
      "Name: 6730, dtype: object\n",
      "comment    I live there\n",
      "Name: 12093, dtype: object\n",
      "comment    Reminds me of the Singaporean Independence 'Referendum' where literally all the options meant independence from the UK.\n",
      "Name: 8873, dtype: object\n",
      "comment    Im from singapore\n",
      "Name: 12981, dtype: object\n",
      "comment    I moved to Singapore from Canada. I arrived with preconceived notions about what democracy and freedom should be. After a year in Singapore I adapted and loved it. At the end of the day, what works for Singapore works for Singaporeans, who are awesome people that are fun to get on the beers with and have great conversations. Could the Singapore model be applied to other systems? I dunno. Maybe for micro city states but not large nations. I very much look forward to going back for another expat stint.\n",
      "Name: 9182, dtype: object\n",
      "comment    The strange thing is, I was in Singapore a week ago. I stayed at Park Hotel, right next to Park Royal.\n",
      "Name: 21826, dtype: object\n",
      "comment    But the Philippines 🇵🇭 since the began of the Philippine Drug War from 2016 to current among Duterte to present Marcos, Jr.\n",
      "Name: 2688, dtype: object\n",
      "comment    Except they are a dictature\n",
      "Name: 15471, dtype: object\n",
      "comment    Capitalism and a Civilized society Does create amazing things,  Compare this to Cuba and Venezuela,  hahaha\n",
      "Name: 19618, dtype: object\n",
      "comment    Up to the minute 11 it gave me a bad taste in my mouth, but then, having a vast majority of Singaporeans saying that they value more economic development than democracy, is ironically enabling the lack of democracy *democratically*. \\n\\nThen it's all good I guess.\n",
      "Name: 8161, dtype: object\n",
      "comment    Only thing I notice in Singapore is their obsession with law enforcement and justice/ punishment. Their sense of punishment is on a different level, look at any CNA post online and all the Singaporeans are calling for like harsh extreme punishments & max sentencing for minor infractions or petty crimes. I think it has a lot to do with their sense of SG being a crime free utopia they like to pat themselves on the back for so when they see a crime they want to erase the person and essentially throw the book at him/her no matter what. \\n\\nIt’s quite weird to see especially since apparently a lot of Singaporeans are Christian but their morality doesn’t seem to stem from their faith but rather it stems from the state completely. Also in a side note they REEEEALLY hate it when a white person commits a crime in Singapore even if again it’s something as small as had a mask off in a place they seethe with anger and go in some weird racialistic diatribe and pretend to have some PTSD from the crown colony days. It’s weird.\n",
      "Name: 11477, dtype: object\n",
      "comment    I mean idk...  sounds a lot like the us's democrat party\\n\\nAt what point does suppression of criticism become legitimate control...\n",
      "Name: 11000, dtype: object\n",
      "comment    I get Interested to visit Singapor once at least\n",
      "Name: 21890, dtype: object\n",
      "comment    When I heard poo water is filtered into drinking water , I will not even visit Singapore,\n",
      "Name: 17656, dtype: object\n",
      "comment    Better than america which is has more RASICM, rather than Singapore and Indonesia.\n",
      "Name: 17686, dtype: object\n",
      "comment    I visited Singapore a week agon. Amazing Country <3\n",
      "Name: 21651, dtype: object\n",
      "comment    That's what a country achieved and became when its leaders are competent, NON-CORRUPT and visionary especially when its people love and care for their country over their politicians.\n",
      "Name: 19344, dtype: object\n",
      "comment    Cars in Singapore is expensive tho lol\n",
      "Name: 14202, dtype: object\n",
      "comment    Who else randomly found *Nas Daily* one day and has been  watching  ever since?\n",
      "Name: 18203, dtype: object\n",
      "comment    Problem with Singapore....too many Indians.\n",
      "Name: 827, dtype: object\n",
      "comment    I wanna go there\n",
      "Name: 11827, dtype: object\n"
     ]
    }
   ],
   "source": [
    "# identifying the 100 comments\n",
    "\n",
    "for no in row_no:\n",
    "    vader_sentiment = comments_en.iloc[no][['comment']]\n",
    "    print(vader_sentiment)"
   ]
  },
  {
   "cell_type": "markdown",
   "id": "5c061842-3af9-4e83-aab1-b8abc13c21c1",
   "metadata": {},
   "source": [
    "When comparing VADER sentiment predictions to the manual sentiment predictions (please see VADER_manual.pdf in assets folder), there is a 73% match. Studies show that humans can agree on sentiment only around [65-80% of the time](https://link.springer.com/article/10.1007/s11069-022-05307-w), as such, we will accept VADER sentiment analysis, and use it as our ground truth by which to compare our train and test scores."
   ]
  },
  {
   "cell_type": "markdown",
   "id": "9ce55427-ebb1-4843-886b-529af02a7bc0",
   "metadata": {},
   "source": [
    "### Data cleaning (part 2)\n",
    "\n",
    "- Clean text of special characters, punctuation, excessive letters, numbers, etc.\n",
    "- Tokenize\n",
    "- Lemmatizing/stemming"
   ]
  },
  {
   "cell_type": "markdown",
   "id": "648707e3-0016-4ce9-8e01-025a4c2a3a94",
   "metadata": {},
   "source": [
    "#### Cleaning text"
   ]
  },
  {
   "cell_type": "code",
   "execution_count": 46,
   "id": "0f4aad99-76e9-4979-8763-a5af48e62354",
   "metadata": {},
   "outputs": [],
   "source": [
    "# remove punctuation, special characters, url, html\n",
    "# convert all text to lowercase\n",
    "\n",
    "import re\n",
    "\n",
    "def get_clean(text):\n",
    "    text = text.lower()\n",
    "    text = re.sub(r'https?://(?:www\\.)?[\\w.-]+\\.[a-zA-Z]{2,}(?:/[\\w./%?=&-]*)?', 'url', text)\n",
    "    text = re.sub(r'\\n', ' ', text)\n",
    "    text = re.sub(r'[^\\w\\s]', '', text)\n",
    "    text = text.replace('_', '')\n",
    "    return text"
   ]
  },
  {
   "cell_type": "code",
   "execution_count": 47,
   "id": "ee9163ee-e8c7-4b5f-88eb-78882c6bc1dd",
   "metadata": {},
   "outputs": [],
   "source": [
    "comments_en['clean_text'] = comments_en['comment'].apply(get_clean)"
   ]
  },
  {
   "cell_type": "code",
   "execution_count": 48,
   "id": "4cac8b0d-ad25-4c01-87f5-d62003bb7423",
   "metadata": {},
   "outputs": [
    {
     "data": {
      "text/html": [
       "<div>\n",
       "<style scoped>\n",
       "    .dataframe tbody tr th:only-of-type {\n",
       "        vertical-align: middle;\n",
       "    }\n",
       "\n",
       "    .dataframe tbody tr th {\n",
       "        vertical-align: top;\n",
       "    }\n",
       "\n",
       "    .dataframe thead th {\n",
       "        text-align: right;\n",
       "    }\n",
       "</style>\n",
       "<table border=\"1\" class=\"dataframe\">\n",
       "  <thead>\n",
       "    <tr style=\"text-align: right;\">\n",
       "      <th></th>\n",
       "      <th>video_id</th>\n",
       "      <th>comment</th>\n",
       "      <th>comment_date</th>\n",
       "      <th>sentiment_score</th>\n",
       "      <th>compound</th>\n",
       "      <th>sentiment</th>\n",
       "      <th>binary</th>\n",
       "      <th>clean_text</th>\n",
       "    </tr>\n",
       "  </thead>\n",
       "  <tbody>\n",
       "    <tr>\n",
       "      <th>0</th>\n",
       "      <td>xJlgtV8L7Jc</td>\n",
       "      <td>For more on this: https://sc.mp/gjys</td>\n",
       "      <td>2023-07-26 04:11:40+00:00</td>\n",
       "      <td>{'neg': 0.0, 'neu': 1.0, 'pos': 0.0, 'compound': 0.0}</td>\n",
       "      <td>0.0000</td>\n",
       "      <td>neutral</td>\n",
       "      <td>1</td>\n",
       "      <td>for more on this url</td>\n",
       "    </tr>\n",
       "    <tr>\n",
       "      <th>1</th>\n",
       "      <td>xJlgtV8L7Jc</td>\n",
       "      <td>Yes,  punish the criminals , not the innocent people</td>\n",
       "      <td>2023-08-03 03:52:04+00:00</td>\n",
       "      <td>{'neg': 0.577, 'neu': 0.253, 'pos': 0.17, 'compound': -0.7533}</td>\n",
       "      <td>-0.7533</td>\n",
       "      <td>negative</td>\n",
       "      <td>0</td>\n",
       "      <td>yes  punish the criminals  not the innocent people</td>\n",
       "    </tr>\n",
       "    <tr>\n",
       "      <th>2</th>\n",
       "      <td>xJlgtV8L7Jc</td>\n",
       "      <td>Flor Contemplacion had been there. Filipinos know it, and a movie had been made out of her experience.</td>\n",
       "      <td>2023-08-02 15:10:36+00:00</td>\n",
       "      <td>{'neg': 0.0, 'neu': 1.0, 'pos': 0.0, 'compound': 0.0}</td>\n",
       "      <td>0.0000</td>\n",
       "      <td>neutral</td>\n",
       "      <td>1</td>\n",
       "      <td>flor contemplacion had been there filipinos know it and a movie had been made out of her experience</td>\n",
       "    </tr>\n",
       "    <tr>\n",
       "      <th>3</th>\n",
       "      <td>xJlgtV8L7Jc</td>\n",
       "      <td>Don't mind these westoids. I'm half Indonesian-Malaysian and I applaud Singapore's effort for combating drug trafficking</td>\n",
       "      <td>2023-08-01 08:46:42+00:00</td>\n",
       "      <td>{'neg': 0.0, 'neu': 0.824, 'pos': 0.176, 'compound': 0.4588}</td>\n",
       "      <td>0.4588</td>\n",
       "      <td>positive</td>\n",
       "      <td>1</td>\n",
       "      <td>dont mind these westoids im half indonesianmalaysian and i applaud singapores effort for combating drug trafficking</td>\n",
       "    </tr>\n",
       "    <tr>\n",
       "      <th>4</th>\n",
       "      <td>xJlgtV8L7Jc</td>\n",
       "      <td>No wonder Singapore has the most powerful passport, toppling Japan this year.\\n\\nThey don't fck around with their laws.</td>\n",
       "      <td>2023-08-01 07:57:54+00:00</td>\n",
       "      <td>{'neg': 0.099, 'neu': 0.763, 'pos': 0.139, 'compound': 0.2247}</td>\n",
       "      <td>0.2247</td>\n",
       "      <td>positive</td>\n",
       "      <td>1</td>\n",
       "      <td>no wonder singapore has the most powerful passport toppling japan this year  they dont fck around with their laws</td>\n",
       "    </tr>\n",
       "    <tr>\n",
       "      <th>...</th>\n",
       "      <td>...</td>\n",
       "      <td>...</td>\n",
       "      <td>...</td>\n",
       "      <td>...</td>\n",
       "      <td>...</td>\n",
       "      <td>...</td>\n",
       "      <td>...</td>\n",
       "      <td>...</td>\n",
       "    </tr>\n",
       "    <tr>\n",
       "      <th>22159</th>\n",
       "      <td>xi6r3hZe5Tg</td>\n",
       "      <td>+1 science is difficult</td>\n",
       "      <td>2018-11-24 13:06:36+00:00</td>\n",
       "      <td>{'neg': 0.455, 'neu': 0.545, 'pos': 0.0, 'compound': -0.3612}</td>\n",
       "      <td>-0.3612</td>\n",
       "      <td>negative</td>\n",
       "      <td>0</td>\n",
       "      <td>1 science is difficult</td>\n",
       "    </tr>\n",
       "    <tr>\n",
       "      <th>22160</th>\n",
       "      <td>xi6r3hZe5Tg</td>\n",
       "      <td>I live in Australia and have always wanted to visit Singapore.</td>\n",
       "      <td>2018-11-24 13:03:39+00:00</td>\n",
       "      <td>{'neg': 0.0, 'neu': 1.0, 'pos': 0.0, 'compound': 0.0}</td>\n",
       "      <td>0.0000</td>\n",
       "      <td>neutral</td>\n",
       "      <td>1</td>\n",
       "      <td>i live in australia and have always wanted to visit singapore</td>\n",
       "    </tr>\n",
       "    <tr>\n",
       "      <th>22161</th>\n",
       "      <td>xi6r3hZe5Tg</td>\n",
       "      <td>yeah! second here ❤</td>\n",
       "      <td>2018-11-24 13:03:13+00:00</td>\n",
       "      <td>{'neg': 0.0, 'neu': 0.445, 'pos': 0.555, 'compound': 0.3595}</td>\n",
       "      <td>0.3595</td>\n",
       "      <td>positive</td>\n",
       "      <td>1</td>\n",
       "      <td>yeah second here</td>\n",
       "    </tr>\n",
       "    <tr>\n",
       "      <th>22162</th>\n",
       "      <td>xi6r3hZe5Tg</td>\n",
       "      <td>Awesome... civilization is getting to it's peak...</td>\n",
       "      <td>2018-11-24 13:02:55+00:00</td>\n",
       "      <td>{'neg': 0.0, 'neu': 1.0, 'pos': 0.0, 'compound': 0.0}</td>\n",
       "      <td>0.0000</td>\n",
       "      <td>neutral</td>\n",
       "      <td>1</td>\n",
       "      <td>awesome civilization is getting to its peak</td>\n",
       "    </tr>\n",
       "    <tr>\n",
       "      <th>22163</th>\n",
       "      <td>xi6r3hZe5Tg</td>\n",
       "      <td>*Singapore's Changi Airport is also stunning*</td>\n",
       "      <td>2018-11-24 13:02:52+00:00</td>\n",
       "      <td>{'neg': 0.0, 'neu': 1.0, 'pos': 0.0, 'compound': 0.0}</td>\n",
       "      <td>0.0000</td>\n",
       "      <td>neutral</td>\n",
       "      <td>1</td>\n",
       "      <td>singapores changi airport is also stunning</td>\n",
       "    </tr>\n",
       "  </tbody>\n",
       "</table>\n",
       "<p>22164 rows × 8 columns</p>\n",
       "</div>"
      ],
      "text/plain": [
       "          video_id  \\\n",
       "0      xJlgtV8L7Jc   \n",
       "1      xJlgtV8L7Jc   \n",
       "2      xJlgtV8L7Jc   \n",
       "3      xJlgtV8L7Jc   \n",
       "4      xJlgtV8L7Jc   \n",
       "...            ...   \n",
       "22159  xi6r3hZe5Tg   \n",
       "22160  xi6r3hZe5Tg   \n",
       "22161  xi6r3hZe5Tg   \n",
       "22162  xi6r3hZe5Tg   \n",
       "22163  xi6r3hZe5Tg   \n",
       "\n",
       "                                                                                                                        comment  \\\n",
       "0                                                                                          For more on this: https://sc.mp/gjys   \n",
       "1                                                                          Yes,  punish the criminals , not the innocent people   \n",
       "2                        Flor Contemplacion had been there. Filipinos know it, and a movie had been made out of her experience.   \n",
       "3      Don't mind these westoids. I'm half Indonesian-Malaysian and I applaud Singapore's effort for combating drug trafficking   \n",
       "4       No wonder Singapore has the most powerful passport, toppling Japan this year.\\n\\nThey don't fck around with their laws.   \n",
       "...                                                                                                                         ...   \n",
       "22159                                                                                                   +1 science is difficult   \n",
       "22160                                                            I live in Australia and have always wanted to visit Singapore.   \n",
       "22161                                                                                                       yeah! second here ❤   \n",
       "22162                                                                        Awesome... civilization is getting to it's peak...   \n",
       "22163                                                                             *Singapore's Changi Airport is also stunning*   \n",
       "\n",
       "                   comment_date  \\\n",
       "0     2023-07-26 04:11:40+00:00   \n",
       "1     2023-08-03 03:52:04+00:00   \n",
       "2     2023-08-02 15:10:36+00:00   \n",
       "3     2023-08-01 08:46:42+00:00   \n",
       "4     2023-08-01 07:57:54+00:00   \n",
       "...                         ...   \n",
       "22159 2018-11-24 13:06:36+00:00   \n",
       "22160 2018-11-24 13:03:39+00:00   \n",
       "22161 2018-11-24 13:03:13+00:00   \n",
       "22162 2018-11-24 13:02:55+00:00   \n",
       "22163 2018-11-24 13:02:52+00:00   \n",
       "\n",
       "                                                      sentiment_score  \\\n",
       "0               {'neg': 0.0, 'neu': 1.0, 'pos': 0.0, 'compound': 0.0}   \n",
       "1      {'neg': 0.577, 'neu': 0.253, 'pos': 0.17, 'compound': -0.7533}   \n",
       "2               {'neg': 0.0, 'neu': 1.0, 'pos': 0.0, 'compound': 0.0}   \n",
       "3        {'neg': 0.0, 'neu': 0.824, 'pos': 0.176, 'compound': 0.4588}   \n",
       "4      {'neg': 0.099, 'neu': 0.763, 'pos': 0.139, 'compound': 0.2247}   \n",
       "...                                                               ...   \n",
       "22159   {'neg': 0.455, 'neu': 0.545, 'pos': 0.0, 'compound': -0.3612}   \n",
       "22160           {'neg': 0.0, 'neu': 1.0, 'pos': 0.0, 'compound': 0.0}   \n",
       "22161    {'neg': 0.0, 'neu': 0.445, 'pos': 0.555, 'compound': 0.3595}   \n",
       "22162           {'neg': 0.0, 'neu': 1.0, 'pos': 0.0, 'compound': 0.0}   \n",
       "22163           {'neg': 0.0, 'neu': 1.0, 'pos': 0.0, 'compound': 0.0}   \n",
       "\n",
       "       compound sentiment  binary  \\\n",
       "0        0.0000   neutral       1   \n",
       "1       -0.7533  negative       0   \n",
       "2        0.0000   neutral       1   \n",
       "3        0.4588  positive       1   \n",
       "4        0.2247  positive       1   \n",
       "...         ...       ...     ...   \n",
       "22159   -0.3612  negative       0   \n",
       "22160    0.0000   neutral       1   \n",
       "22161    0.3595  positive       1   \n",
       "22162    0.0000   neutral       1   \n",
       "22163    0.0000   neutral       1   \n",
       "\n",
       "                                                                                                                clean_text  \n",
       "0                                                                                                     for more on this url  \n",
       "1                                                                       yes  punish the criminals  not the innocent people  \n",
       "2                      flor contemplacion had been there filipinos know it and a movie had been made out of her experience  \n",
       "3      dont mind these westoids im half indonesianmalaysian and i applaud singapores effort for combating drug trafficking  \n",
       "4        no wonder singapore has the most powerful passport toppling japan this year  they dont fck around with their laws  \n",
       "...                                                                                                                    ...  \n",
       "22159                                                                                               1 science is difficult  \n",
       "22160                                                        i live in australia and have always wanted to visit singapore  \n",
       "22161                                                                                                    yeah second here   \n",
       "22162                                                                          awesome civilization is getting to its peak  \n",
       "22163                                                                           singapores changi airport is also stunning  \n",
       "\n",
       "[22164 rows x 8 columns]"
      ]
     },
     "execution_count": 48,
     "metadata": {},
     "output_type": "execute_result"
    }
   ],
   "source": [
    "comments_en"
   ]
  },
  {
   "cell_type": "code",
   "execution_count": 49,
   "id": "5b432240-6fab-49f4-bbba-bbaf4ac3be4d",
   "metadata": {},
   "outputs": [],
   "source": [
    "# remove numbers\n",
    "\n",
    "def no_nums(text):\n",
    "    return re.sub(r'[/\\d+/]', 'number ', text)"
   ]
  },
  {
   "cell_type": "code",
   "execution_count": 50,
   "id": "8fed58d0-91e2-4a4e-ae13-44bd18b926c0",
   "metadata": {},
   "outputs": [],
   "source": [
    "comments_en['clean_text'] = comments_en['clean_text'].apply(no_nums)"
   ]
  },
  {
   "cell_type": "code",
   "execution_count": 51,
   "id": "dfad4445-702e-4c60-8329-4aaf51c93f07",
   "metadata": {},
   "outputs": [
    {
     "data": {
      "text/html": [
       "<div>\n",
       "<style scoped>\n",
       "    .dataframe tbody tr th:only-of-type {\n",
       "        vertical-align: middle;\n",
       "    }\n",
       "\n",
       "    .dataframe tbody tr th {\n",
       "        vertical-align: top;\n",
       "    }\n",
       "\n",
       "    .dataframe thead th {\n",
       "        text-align: right;\n",
       "    }\n",
       "</style>\n",
       "<table border=\"1\" class=\"dataframe\">\n",
       "  <thead>\n",
       "    <tr style=\"text-align: right;\">\n",
       "      <th></th>\n",
       "      <th>clean_text</th>\n",
       "    </tr>\n",
       "  </thead>\n",
       "  <tbody>\n",
       "    <tr>\n",
       "      <th>0</th>\n",
       "      <td>for more on this url</td>\n",
       "    </tr>\n",
       "    <tr>\n",
       "      <th>1</th>\n",
       "      <td>yes  punish the criminals  not the innocent people</td>\n",
       "    </tr>\n",
       "    <tr>\n",
       "      <th>2</th>\n",
       "      <td>flor contemplacion had been there filipinos know it and a movie had been made out of her experience</td>\n",
       "    </tr>\n",
       "    <tr>\n",
       "      <th>3</th>\n",
       "      <td>dont mind these westoids im half indonesianmalaysian and i applaud singapores effort for combating drug trafficking</td>\n",
       "    </tr>\n",
       "    <tr>\n",
       "      <th>4</th>\n",
       "      <td>no wonder singapore has the most powerful passport toppling japan this year  they dont fck around with their laws</td>\n",
       "    </tr>\n",
       "    <tr>\n",
       "      <th>...</th>\n",
       "      <td>...</td>\n",
       "    </tr>\n",
       "    <tr>\n",
       "      <th>22159</th>\n",
       "      <td>number  science is difficult</td>\n",
       "    </tr>\n",
       "    <tr>\n",
       "      <th>22160</th>\n",
       "      <td>i live in australia and have always wanted to visit singapore</td>\n",
       "    </tr>\n",
       "    <tr>\n",
       "      <th>22161</th>\n",
       "      <td>yeah second here</td>\n",
       "    </tr>\n",
       "    <tr>\n",
       "      <th>22162</th>\n",
       "      <td>awesome civilization is getting to its peak</td>\n",
       "    </tr>\n",
       "    <tr>\n",
       "      <th>22163</th>\n",
       "      <td>singapores changi airport is also stunning</td>\n",
       "    </tr>\n",
       "  </tbody>\n",
       "</table>\n",
       "<p>22164 rows × 1 columns</p>\n",
       "</div>"
      ],
      "text/plain": [
       "                                                                                                                clean_text\n",
       "0                                                                                                     for more on this url\n",
       "1                                                                       yes  punish the criminals  not the innocent people\n",
       "2                      flor contemplacion had been there filipinos know it and a movie had been made out of her experience\n",
       "3      dont mind these westoids im half indonesianmalaysian and i applaud singapores effort for combating drug trafficking\n",
       "4        no wonder singapore has the most powerful passport toppling japan this year  they dont fck around with their laws\n",
       "...                                                                                                                    ...\n",
       "22159                                                                                         number  science is difficult\n",
       "22160                                                        i live in australia and have always wanted to visit singapore\n",
       "22161                                                                                                    yeah second here \n",
       "22162                                                                          awesome civilization is getting to its peak\n",
       "22163                                                                           singapores changi airport is also stunning\n",
       "\n",
       "[22164 rows x 1 columns]"
      ]
     },
     "execution_count": 51,
     "metadata": {},
     "output_type": "execute_result"
    }
   ],
   "source": [
    "comments_en[['clean_text']]"
   ]
  },
  {
   "cell_type": "code",
   "execution_count": 52,
   "id": "f848f7b9-3751-464b-9d9e-5799cc9fbfe2",
   "metadata": {},
   "outputs": [],
   "source": [
    "# remove repeated words\n",
    "\n",
    "def no_repeats(text):\n",
    "    return re.sub(r'\\b(\\w+)\\b.*\\b\\1\\b', r'\\1', text)"
   ]
  },
  {
   "cell_type": "code",
   "execution_count": 53,
   "id": "b1251232-edf7-4fbe-81c1-ee520209df7d",
   "metadata": {},
   "outputs": [],
   "source": [
    "comments_en['clean_text'] = comments_en['clean_text'].apply(no_repeats)"
   ]
  },
  {
   "cell_type": "markdown",
   "id": "c14277d6-ac31-46a8-a18d-3f38055199e7",
   "metadata": {},
   "source": [
    "#### Tokenizing"
   ]
  },
  {
   "cell_type": "code",
   "execution_count": 54,
   "id": "64790350-e8bd-4212-85c2-1abc1a273094",
   "metadata": {},
   "outputs": [],
   "source": [
    "def get_tokens(text):\n",
    "    return word_tokenize(text)"
   ]
  },
  {
   "cell_type": "code",
   "execution_count": 55,
   "id": "2df28798-8391-4854-93b7-8bcdaadf1f22",
   "metadata": {},
   "outputs": [],
   "source": [
    "comments_en['tokenize'] = comments_en['clean_text'].apply(get_tokens)"
   ]
  },
  {
   "cell_type": "code",
   "execution_count": 56,
   "id": "c0d4d886-c66c-4d66-8594-69257eb9267c",
   "metadata": {},
   "outputs": [],
   "source": [
    "# clean up dataframe for eda\n",
    "\n",
    "comments_en.drop(columns = ['sentiment_score', 'compound', 'sentiment', 'clean_text'], inplace=True)\n"
   ]
  },
  {
   "cell_type": "code",
   "execution_count": 57,
   "id": "9faa9901-1322-4843-a4fa-9e4ba05109db",
   "metadata": {},
   "outputs": [],
   "source": [
    "# save as pickle\n",
    "\n",
    "comments_en.to_pickle('./data/comments_tokenize.pkl')"
   ]
  },
  {
   "cell_type": "markdown",
   "id": "efb93d21-667d-4e07-93a3-a67c12661b38",
   "metadata": {},
   "source": [
    "### Data dictionary"
   ]
  },
  {
   "cell_type": "markdown",
   "id": "8b89348c-022a-4f72-834c-471e05a7bdf2",
   "metadata": {},
   "source": [
    "|column|description|\n",
    "|-|-|\n",
    "|`video_id`| url of the youtube video|\n",
    "|`comment`| comments from the youtube video|\n",
    "|`comment_date`| date comment was posted and published|\n",
    "|`binary`| class labels for sentiment of the comment - 1 is positive, 0 is negative|\n",
    "|`tokenize`| tokenized comments for data exploration and further pre-processing|\n"
   ]
  },
  {
   "cell_type": "code",
   "execution_count": null,
   "id": "0d372b68-ba7f-4028-8891-30f9eda8c832",
   "metadata": {},
   "outputs": [],
   "source": []
  }
 ],
 "metadata": {
  "kernelspec": {
   "display_name": "Python 3 (ipykernel)",
   "language": "python",
   "name": "python3"
  },
  "language_info": {
   "codemirror_mode": {
    "name": "ipython",
    "version": 3
   },
   "file_extension": ".py",
   "mimetype": "text/x-python",
   "name": "python",
   "nbconvert_exporter": "python",
   "pygments_lexer": "ipython3",
   "version": "3.8.16"
  }
 },
 "nbformat": 4,
 "nbformat_minor": 5
}
